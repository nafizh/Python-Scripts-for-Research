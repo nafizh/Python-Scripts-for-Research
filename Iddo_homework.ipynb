{
 "cells": [
  {
   "cell_type": "code",
   "execution_count": 1,
   "metadata": {
    "collapsed": true
   },
   "outputs": [],
   "source": [
    "import os\n",
    "os.chdir(\"/home/nafizh/try_Iddo_approaches\")"
   ]
  },
  {
   "cell_type": "code",
   "execution_count": 79,
   "metadata": {
    "collapsed": false
   },
   "outputs": [
    {
     "name": "stderr",
     "output_type": "stream",
     "text": [
      "gaf 1.0\n",
      "gaf 1.0\n"
     ]
    },
    {
     "name": "stdout",
     "output_type": "stream",
     "text": [
      "For humans\n",
      "Total protein:  46380\n",
      "Proteins with experimental evidence:  16125\n",
      "Proteins without experimental evidence:  30255\n",
      "Percentage of experimental annotation:  34.7671410091 %\n"
     ]
    }
   ],
   "source": [
    "\"\"\"\n",
    "For Human\n",
    "\"\"\"\n",
    "\n",
    "from Bio.UniProt import GOA\n",
    "from __future__ import division\n",
    "\n",
    "experi_evi = ['EXP', 'IDA', 'IPI', 'IMP', 'IGI', 'IEP']\n",
    "\n",
    "read_handle = open(\"gene_association.goa_human\", \"r\")\n",
    "\n",
    "experi_annot = 0\n",
    "total_prot = 0\n",
    "\n",
    "# to find how many proteins have experimental evidence\n",
    "for i, record in enumerate(GOA.gafbyproteiniterator(read_handle)):\n",
    "    for my_dict in record:\n",
    "        if my_dict['DB_Object_Type'] == 'protein':\n",
    "            if my_dict['Evidence'] in experi_evi:\n",
    "                experi_annot += 1\n",
    "                break\n",
    "\n",
    "read_handle.close()\n",
    "\n",
    "\n",
    "read_handle = open(\"gene_association.goa_human\", \"r\")\n",
    "\n",
    "# to find the total number of proteins\n",
    "for i, record in enumerate(GOA.gafbyproteiniterator(read_handle)):\n",
    "    for my_dict in record:\n",
    "        if my_dict['DB_Object_Type'] == 'protein':\n",
    "            total_prot += 1\n",
    "            break\n",
    "\n",
    "read_handle.close()\n",
    "\n",
    "print \"For humans\"\n",
    "print \"Total protein: \", total_prot\n",
    "print \"Proteins with experimental evidence: \", experi_annot\n",
    "print \"Proteins without experimental evidence: \", total_prot - experi_annot\n",
    "print \"Percentage of experimental annotation: \", (experi_annot / total_prot) * 100, \"%\""
   ]
  },
  {
   "cell_type": "code",
   "execution_count": 75,
   "metadata": {
    "collapsed": false
   },
   "outputs": [
    {
     "name": "stderr",
     "output_type": "stream",
     "text": [
      "gaf 1.0\n",
      "gaf 1.0\n"
     ]
    },
    {
     "name": "stdout",
     "output_type": "stream",
     "text": [
      "For Mouse\n",
      "Total protein:  39926\n",
      "Proteins with experimental evidence:  11503\n",
      "Proteins without experimental evidence:  28423\n",
      "Percentage of experimental annotation:  28.81079998 %\n"
     ]
    }
   ],
   "source": [
    "\"\"\"\n",
    "For Mouse\n",
    "\"\"\"\n",
    "\n",
    "from Bio.UniProt import GOA\n",
    "\n",
    "experi_evi = ['EXP', 'IDA', 'IPI', 'IMP', 'IGI', 'IEP']\n",
    "\n",
    "read_handle = open(\"gene_association.goa_mouse\", \"r\")\n",
    "\n",
    "experi_annot = 0\n",
    "total_prot = 0\n",
    "\n",
    "# to find how many proteins have experimental evidence\n",
    "for i, record in enumerate(GOA.gafbyproteiniterator(read_handle)):\n",
    "    for my_dict in record:\n",
    "        if my_dict['DB_Object_Type'] == 'protein':\n",
    "            if my_dict['Evidence'] in experi_evi:\n",
    "                experi_annot += 1\n",
    "                break\n",
    "\n",
    "read_handle.close()\n",
    "\n",
    "\n",
    "read_handle = open(\"gene_association.goa_mouse\", \"r\")\n",
    "\n",
    "# to find the total number of proteins\n",
    "for i, record in enumerate(GOA.gafbyproteiniterator(read_handle)):\n",
    "    for my_dict in record:\n",
    "        if my_dict['DB_Object_Type'] == 'protein':\n",
    "            total_prot += 1\n",
    "            break\n",
    "\n",
    "read_handle.close()\n",
    "\n",
    "print \"For Mouse\"\n",
    "print \"Total protein: \", total_prot\n",
    "print \"Proteins with experimental evidence: \", experi_annot\n",
    "print \"Proteins without experimental evidence: \", total_prot - experi_annot\n",
    "print \"Percentage of experimental annotation: \", (experi_annot / total_prot) * 100, \"%\""
   ]
  },
  {
   "cell_type": "code",
   "execution_count": 76,
   "metadata": {
    "collapsed": false
   },
   "outputs": [
    {
     "name": "stderr",
     "output_type": "stream",
     "text": [
      "gaf 1.0\n",
      "gaf 1.0\n"
     ]
    },
    {
     "name": "stdout",
     "output_type": "stream",
     "text": [
      "For rat\n",
      "Total protein:  26428\n",
      "Proteins with experimental evidence:  5792\n",
      "Proteins without experimental evidence:  20636\n",
      "Percentage of experimental annotation:  21.9161495384 %\n"
     ]
    }
   ],
   "source": [
    "\"\"\"\n",
    "For rat\n",
    "\"\"\"\n",
    "\n",
    "from Bio.UniProt import GOA\n",
    "\n",
    "experi_evi = ['EXP', 'IDA', 'IPI', 'IMP', 'IGI', 'IEP']\n",
    "\n",
    "read_handle = open(\"gene_association.goa_rat\", \"r\")\n",
    "\n",
    "experi_annot = 0\n",
    "total_prot = 0\n",
    "\n",
    "# to find how many proteins have experimental evidence\n",
    "for i, record in enumerate(GOA.gafbyproteiniterator(read_handle)):\n",
    "    for my_dict in record:\n",
    "        if my_dict['DB_Object_Type'] == 'protein':\n",
    "            if my_dict['Evidence'] in experi_evi:\n",
    "                experi_annot += 1\n",
    "                break\n",
    "\n",
    "read_handle.close()\n",
    "\n",
    "\n",
    "read_handle = open(\"gene_association.goa_rat\", \"r\")\n",
    "\n",
    "# to find the total number of proteins\n",
    "for i, record in enumerate(GOA.gafbyproteiniterator(read_handle)):\n",
    "    for my_dict in record:\n",
    "        if my_dict['DB_Object_Type'] == 'protein':\n",
    "            total_prot += 1\n",
    "            break\n",
    "\n",
    "read_handle.close()\n",
    "\n",
    "print \"For rat\"\n",
    "print \"Total protein: \", total_prot\n",
    "print \"Proteins with experimental evidence: \", experi_annot\n",
    "print \"Proteins without experimental evidence: \", total_prot - experi_annot\n",
    "print \"Percentage of experimental annotation: \", (experi_annot / total_prot) * 100, \"%\""
   ]
  },
  {
   "cell_type": "code",
   "execution_count": 77,
   "metadata": {
    "collapsed": false
   },
   "outputs": [
    {
     "name": "stderr",
     "output_type": "stream",
     "text": [
      "gaf 1.0\n",
      "gaf 1.0\n"
     ]
    },
    {
     "name": "stdout",
     "output_type": "stream",
     "text": [
      "For Zebrafish\n",
      "Total protein:  35862\n",
      "Proteins with experimental evidence:  6223\n",
      "Proteins without experimental evidence:  29639\n",
      "Percentage of experimental annotation:  17.3526295243 %\n"
     ]
    }
   ],
   "source": [
    "\"\"\"\n",
    "For zebrafish\n",
    "\"\"\"\n",
    "\n",
    "from Bio.UniProt import GOA\n",
    "\n",
    "experi_evi = ['EXP', 'IDA', 'IPI', 'IMP', 'IGI', 'IEP']\n",
    "\n",
    "read_handle = open(\"gene_association.goa_zebrafish\", \"r\")\n",
    "\n",
    "experi_annot = 0\n",
    "total_prot = 0\n",
    "\n",
    "# to find how many proteins have experimental evidence\n",
    "for i, record in enumerate(GOA.gafbyproteiniterator(read_handle)):\n",
    "    for my_dict in record:\n",
    "        if my_dict['DB_Object_Type'] == 'protein':\n",
    "            if my_dict['Evidence'] in experi_evi:\n",
    "                experi_annot += 1\n",
    "                break\n",
    "\n",
    "read_handle.close()\n",
    "\n",
    "\n",
    "read_handle = open(\"gene_association.goa_zebrafish\", \"r\")\n",
    "\n",
    "# to find the total number of proteins\n",
    "for i, record in enumerate(GOA.gafbyproteiniterator(read_handle)):\n",
    "    for my_dict in record:\n",
    "        if my_dict['DB_Object_Type'] == 'protein':\n",
    "            total_prot += 1\n",
    "            break\n",
    "\n",
    "read_handle.close()\n",
    "\n",
    "print \"For Zebrafish\"\n",
    "print \"Total protein: \", total_prot\n",
    "print \"Proteins with experimental evidence: \", experi_annot\n",
    "print \"Proteins without experimental evidence: \", total_prot - experi_annot\n",
    "print \"Percentage of experimental annotation: \", (experi_annot / total_prot) * 100, \"%\""
   ]
  },
  {
   "cell_type": "code",
   "execution_count": 78,
   "metadata": {
    "collapsed": false
   },
   "outputs": [
    {
     "name": "stderr",
     "output_type": "stream",
     "text": [
      "gaf 1.0\n",
      "gaf 1.0\n"
     ]
    },
    {
     "name": "stdout",
     "output_type": "stream",
     "text": [
      "For Cow\n",
      "Total protein:  21489\n",
      "Proteins with experimental evidence:  577\n",
      "Proteins without experimental evidence:  20912\n",
      "Percentage of experimental annotation:  2.68509469961 %\n"
     ]
    }
   ],
   "source": [
    "\"\"\"\n",
    "For cow\n",
    "\"\"\"\n",
    "\n",
    "from Bio.UniProt import GOA\n",
    "\n",
    "experi_evi = ['EXP', 'IDA', 'IPI', 'IMP', 'IGI', 'IEP']\n",
    "\n",
    "read_handle = open(\"gene_association.goa_cow\", \"r\")\n",
    "\n",
    "experi_annot = 0\n",
    "total_prot = 0\n",
    "\n",
    "# to find how many proteins have experimental evidence\n",
    "for i, record in enumerate(GOA.gafbyproteiniterator(read_handle)):\n",
    "    for my_dict in record:\n",
    "        if my_dict['DB_Object_Type'] == 'protein':\n",
    "            if my_dict['Evidence'] in experi_evi:\n",
    "                experi_annot += 1\n",
    "                break\n",
    "\n",
    "read_handle.close()\n",
    "\n",
    "\n",
    "read_handle = open(\"gene_association.goa_cow\", \"r\")\n",
    "\n",
    "# to find the total number of proteins\n",
    "for i, record in enumerate(GOA.gafbyproteiniterator(read_handle)):\n",
    "    for my_dict in record:\n",
    "        if my_dict['DB_Object_Type'] == 'protein':\n",
    "            total_prot += 1\n",
    "            break\n",
    "\n",
    "read_handle.close()\n",
    "\n",
    "print \"For Cow\"\n",
    "print \"Total protein: \", total_prot\n",
    "print \"Proteins with experimental evidence: \", experi_annot\n",
    "print \"Proteins without experimental evidence: \", total_prot - experi_annot\n",
    "print \"Percentage of experimental annotation: \", (experi_annot / total_prot) * 100, \"%\""
   ]
  },
  {
   "cell_type": "markdown",
   "metadata": {},
   "source": [
    "**As we can see, percentage wise, humans are ahead in terms of being the most in experimentally annotated.**"
   ]
  }
 ],
 "metadata": {
  "kernelspec": {
   "display_name": "Python 2",
   "language": "python",
   "name": "python2"
  },
  "language_info": {
   "codemirror_mode": {
    "name": "ipython",
    "version": 2
   },
   "file_extension": ".py",
   "mimetype": "text/x-python",
   "name": "python",
   "nbconvert_exporter": "python",
   "pygments_lexer": "ipython2",
   "version": "2.7.10"
  }
 },
 "nbformat": 4,
 "nbformat_minor": 0
}
